{
 "cells": [
  {
   "cell_type": "markdown",
   "metadata": {},
   "source": [
    "# Calculations"
   ]
  },
  {
   "cell_type": "code",
   "execution_count": 1,
   "metadata": {},
   "outputs": [],
   "source": [
    "import pandas as pd\n",
    "import numpy as np \n",
    "import matplotlib.pyplot as plt\n",
    "import seaborn as sns\n",
    "sns.set()\n",
    "\n",
    "from statsmodels.graphics.tsaplots import plot_pacf\n",
    "from statsmodels.tsa.arima_model import ARIMA\n",
    "import warnings\n",
    "import numpy as np\n",
    "import pandas as pd\n",
    "import scipy.stats as st\n",
    "import statsmodels as sm\n",
    "import matplotlib\n",
    "import matplotlib.pyplot as plt\n",
    "\n",
    "from statsmodels.tsa.arima_model import ARIMA\n",
    "from statsmodels.tsa.stattools import adfuller\n",
    "\n",
    "import tqdm\n",
    "from statsmodels.graphics.tsaplots import plot_acf\n",
    "\n",
    "import statsmodels.api as sm\n",
    "from sklearn.metrics import mean_absolute_error"
   ]
  },
  {
   "cell_type": "code",
   "execution_count": 15,
   "metadata": {},
   "outputs": [],
   "source": [
    "CO_df = pd.read_csv('/Users/markdetiberiis/Desktop/Incarceration_Data/CO_preds.csv')\n",
    "MA_df = pd.read_csv('/Users/markdetiberiis/Desktop/Incarceration_Data/MA_preds.csv')\n",
    "LA_df = pd.read_csv('/Users/markdetiberiis/Desktop/Incarceration_Data/LA_preds.csv')\n",
    "MS_df = pd.read_csv('/Users/markdetiberiis/Desktop/Incarceration_Data/MS_preds.csv')"
   ]
  },
  {
   "cell_type": "code",
   "execution_count": 16,
   "metadata": {},
   "outputs": [],
   "source": [
    "CO_df.drop(['Unnamed: 0'],axis=1,inplace = True)"
   ]
  },
  {
   "cell_type": "code",
   "execution_count": 17,
   "metadata": {},
   "outputs": [],
   "source": [
    "MA_df.drop(['Unnamed: 0'],axis=1,inplace = True)\n",
    "LA_df.drop(['Unnamed: 0'],axis=1,inplace = True)\n",
    "MS_df.drop(['Unnamed: 0'],axis=1,inplace = True)"
   ]
  },
  {
   "cell_type": "markdown",
   "metadata": {},
   "source": [
    "In 2019 Colorado collected 302 million in marijuana tax revenue, or $827397.26 per day"
   ]
  },
  {
   "cell_type": "code",
   "execution_count": 38,
   "metadata": {},
   "outputs": [],
   "source": [
    "CO_daily_tax = 827397.26"
   ]
  },
  {
   "cell_type": "code",
   "execution_count": 52,
   "metadata": {},
   "outputs": [],
   "source": [
    "CO_daily_jail_cost = 108"
   ]
  },
  {
   "cell_type": "code",
   "execution_count": 18,
   "metadata": {},
   "outputs": [
    {
     "data": {
      "text/plain": [
       "-44.97216168645609"
      ]
     },
     "execution_count": 18,
     "metadata": {},
     "output_type": "execute_result"
    }
   ],
   "source": [
    "#Daily price to keep somoene in jail in CO $108\n",
    "\n",
    "CO_df['0'].sum()"
   ]
  },
  {
   "cell_type": "code",
   "execution_count": 37,
   "metadata": {},
   "outputs": [],
   "source": [
    "MA_daily_tax = 191780.82"
   ]
  },
  {
   "cell_type": "code",
   "execution_count": 66,
   "metadata": {},
   "outputs": [],
   "source": [
    "LA_daily_jail_cost = 45"
   ]
  },
  {
   "cell_type": "code",
   "execution_count": 19,
   "metadata": {},
   "outputs": [
    {
     "data": {
      "text/plain": [
       "1067.4932349341498"
      ]
     },
     "execution_count": 19,
     "metadata": {},
     "output_type": "execute_result"
    }
   ],
   "source": [
    "#Daily price to keep somoene in jail in MA $151\n",
    "\n",
    "LA_df['0'].sum()"
   ]
  },
  {
   "cell_type": "markdown",
   "metadata": {},
   "source": [
    "In 2019 Massachusets first year of legal recreational marijuana the state collected 72 million in marijuana tax revenue, \n",
    "or 191780.82 per day"
   ]
  },
  {
   "cell_type": "code",
   "execution_count": 20,
   "metadata": {},
   "outputs": [
    {
     "data": {
      "text/plain": [
       "39.98724728134809"
      ]
     },
     "execution_count": 20,
     "metadata": {},
     "output_type": "execute_result"
    }
   ],
   "source": [
    "#Daily price to keep somoene in jail in LA $45\n",
    "\n",
    "MA_df['0'].sum()"
   ]
  },
  {
   "cell_type": "code",
   "execution_count": 53,
   "metadata": {},
   "outputs": [],
   "source": [
    "MA_daily_jail_cost = 151"
   ]
  },
  {
   "cell_type": "code",
   "execution_count": 64,
   "metadata": {},
   "outputs": [],
   "source": [
    "MS_daily_jail_cost = 54"
   ]
  },
  {
   "cell_type": "code",
   "execution_count": 21,
   "metadata": {},
   "outputs": [
    {
     "data": {
      "text/plain": [
       "377.9203447679143"
      ]
     },
     "execution_count": 21,
     "metadata": {},
     "output_type": "execute_result"
    }
   ],
   "source": [
    "#Daily price to keep somoene in jail in MS $54\n",
    "\n",
    "MS_df['0'].sum()"
   ]
  },
  {
   "cell_type": "code",
   "execution_count": 25,
   "metadata": {},
   "outputs": [],
   "source": [
    "CO_total_df = pd.read_csv('/Users/markdetiberiis/Desktop/Incarceration_Data/CO_data.csv')\n",
    "MA_total_df = pd.read_csv('/Users/markdetiberiis/Desktop/Incarceration_Data/MA_data.csv')\n",
    "LA_total_df = pd.read_csv('/Users/markdetiberiis/Desktop/Incarceration_Data/LA_data.csv')\n",
    "MS_total_df = pd.read_csv('/Users/markdetiberiis/Desktop/Incarceration_Data/MS_data.csv')"
   ]
  },
  {
   "cell_type": "code",
   "execution_count": 80,
   "metadata": {},
   "outputs": [
    {
     "name": "stdout",
     "output_type": "stream",
     "text": [
      "$ 3624725.484 per day\n"
     ]
    }
   ],
   "source": [
    "CO_jail_population = (CO_total_df['aapi_jail_pop'].sum() + CO_total_df['black_jail_pop'].sum() + CO_total_df['latinx_jail_pop'].sum() + CO_total_df['native_jail_pop'].sum() +CO_total_df['white_jail_pop'].sum())/10\n",
    "\n",
    "CO_jail_running_cost = CO_jail_population * CO_daily_jail_cost\n",
    "print('$',CO_jail_running_cost ,'per day')"
   ]
  },
  {
   "cell_type": "code",
   "execution_count": 91,
   "metadata": {},
   "outputs": [
    {
     "name": "stdout",
     "output_type": "stream",
     "text": [
      "$ 4966299.249 per day\n"
     ]
    }
   ],
   "source": [
    "MA_jail_population = (MA_total_df['aapi_jail_pop'].sum() + MA_total_df['black_jail_pop'].sum() + MA_total_df['latinx_jail_pop'].sum() + MA_total_df['native_jail_pop'].sum() + MA_total_df['white_jail_pop'].sum()) /10  \n",
    "\n",
    "MA_jail_running_cost = MA_jail_population * MA_daily_jail_cost\n",
    "print('$',MA_jail_running_cost ,'per day')"
   ]
  },
  {
   "cell_type": "code",
   "execution_count": 88,
   "metadata": {},
   "outputs": [
    {
     "data": {
      "text/plain": [
       "29652.0"
      ]
     },
     "execution_count": 88,
     "metadata": {},
     "output_type": "execute_result"
    }
   ],
   "source": [
    "MS_jail_population"
   ]
  },
  {
   "cell_type": "code",
   "execution_count": 89,
   "metadata": {},
   "outputs": [
    {
     "data": {
      "text/plain": [
       "33562.273"
      ]
     },
     "execution_count": 89,
     "metadata": {},
     "output_type": "execute_result"
    }
   ],
   "source": [
    "CO_jail_population"
   ]
  },
  {
   "cell_type": "code",
   "execution_count": 83,
   "metadata": {},
   "outputs": [],
   "source": [
    "LA_jail_population = (LA_total_df['aapi_jail_pop'].sum() + LA_total_df['black_jail_pop'].sum() + LA_total_df['latinx_jail_pop'].sum() + LA_total_df['native_jail_pop'].sum() +LA_total_df['white_jail_pop'].sum())/10 \n",
    "\n"
   ]
  },
  {
   "cell_type": "code",
   "execution_count": 84,
   "metadata": {},
   "outputs": [
    {
     "name": "stdout",
     "output_type": "stream",
     "text": [
      "$ 355888.3275000001 per day\n"
     ]
    }
   ],
   "source": [
    "LA_jail_running_cost = LA_jail_population * LA_daily_jail_cost\n",
    "print('$',LA_jail_running_cost,'per day')"
   ]
  },
  {
   "cell_type": "code",
   "execution_count": 87,
   "metadata": {},
   "outputs": [],
   "source": [
    "MS_jail_population = (MS_total_df['aapi_jail_pop'].sum() + MS_total_df['black_jail_pop'].sum() + MS_total_df['latinx_jail_pop'].sum() + MS_total_df['native_jail_pop'].sum() + MS_total_df['white_jail_pop'].sum())/10 \n"
   ]
  },
  {
   "cell_type": "code",
   "execution_count": 90,
   "metadata": {},
   "outputs": [
    {
     "name": "stdout",
     "output_type": "stream",
     "text": [
      "$ 160120.80000000002 per day\n"
     ]
    }
   ],
   "source": [
    "MS_jail_running_cost = MS_jail_population * MS_daily_jail_cost\n",
    "print('$',MS_jail_running_cost,'per day')"
   ]
  },
  {
   "cell_type": "markdown",
   "metadata": {},
   "source": [
    "#Prison Information\n",
    "note this is slightly different than the data I used since I was calculating based on persons in jail not prison.\n",
    "\n",
    "Louisiana and Colorado both spend around $130 per state resident on prisons. But Louisiana, with an incarceration rate of 820 people in prison for every 100,000 state residents, spends around $16,000 for each person in prison. Colorado has a lower incarceration rate of 331 people in prison for every 100,000 state residents, but it spends more around $39,000 on each person incarcerated."
   ]
  }
 ],
 "metadata": {
  "kernelspec": {
   "display_name": "Python 3",
   "language": "python",
   "name": "python3"
  },
  "language_info": {
   "codemirror_mode": {
    "name": "ipython",
    "version": 3
   },
   "file_extension": ".py",
   "mimetype": "text/x-python",
   "name": "python",
   "nbconvert_exporter": "python",
   "pygments_lexer": "ipython3",
   "version": "3.8.3"
  }
 },
 "nbformat": 4,
 "nbformat_minor": 4
}
